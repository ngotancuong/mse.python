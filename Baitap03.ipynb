{
  "nbformat": 4,
  "nbformat_minor": 0,
  "metadata": {
    "colab": {
      "provenance": [],
      "authorship_tag": "ABX9TyMGC04uUqW0KB0KdVpq6H/H",
      "include_colab_link": true
    },
    "kernelspec": {
      "name": "python3",
      "display_name": "Python 3"
    },
    "language_info": {
      "name": "python"
    }
  },
  "cells": [
    {
      "cell_type": "markdown",
      "metadata": {
        "id": "view-in-github",
        "colab_type": "text"
      },
      "source": [
        "<a href=\"https://colab.research.google.com/github/ngotancuong/mse.python/blob/main/Baitap03.ipynb\" target=\"_parent\"><img src=\"https://colab.research.google.com/assets/colab-badge.svg\" alt=\"Open In Colab\"/></a>"
      ]
    },
    {
      "cell_type": "markdown",
      "source": [
        "# M5 Dự báo - Khám phá dữ liệu & xây dựng mô hình"
      ],
      "metadata": {
        "id": "DaqvOmCWepX1"
      }
    },
    {
      "cell_type": "markdown",
      "source": [
        "## Nội dung\n",
        "\n",
        "*   Giới thiệu\n",
        "*   Import các thư viện cần thiết\n",
        "*   Load dữ liệu\n",
        "*   Khám phá dữ liệu\n",
        "*   Xử lý và phân tích dữ liệu\n",
        "*   Trainning mô hình\n",
        "    * Điều chỉnh các siêu tham số\n",
        "\n"
      ],
      "metadata": {
        "id": "Xc3yRGDwe2b_"
      }
    },
    {
      "cell_type": "markdown",
      "source": [
        "## Giới thiệu\n",
        "Nhằm cải thiện độ chính xác trong các dự báo về kinh doanh, diễn ra cuộc thi về dự báo doanh số bán hàng trong 28 ngày kế tiếp. Ở vòng thi M5 này dữ liệu bán hàng của công ty Walmart được sử dụng. Dữ liệu bao gồm các cửa hàng ở ba Tiểu bang Hoa Kỳ (California, Texas và Wisconsin) và bao gồm các mặt hàng, bộ phận, danh mục sản phẩm và thông tin chi tiết về cửa hàng. Ngoài ra, nó có các biến số giải thích như giá cả, chương trình khuyến mãi, ngày trong tuần và các sự kiện đặc biệt. Như vậy, tập dữ liệu mạnh mẽ này có thể được sử dụng để cải thiện độ chính xác của dự báo.\n",
        "\n",
        "Trung tâm Dự báo Mở Makridakis (MOFC) thuộc đại học Nicosia sử dụng các phương pháp trong các lĩnh vực kinh doanh khác nhau, chẳng hạn như thiết lập mức tồn kho hoặc dịch vụ thích hợp để đạt được các dự báo chính xác hơn và hiệu chỉnh tốt hơn."
      ],
      "metadata": {
        "id": "6DZuDyrgfzof"
      }
    },
    {
      "cell_type": "markdown",
      "source": [
        "## Import các module và thư viện cần thiết"
      ],
      "metadata": {
        "id": "4BGqzt-yiCzN"
      }
    },
    {
      "cell_type": "code",
      "execution_count": 1,
      "metadata": {
        "id": "3fRrlvmGelZ9"
      },
      "outputs": [],
      "source": [
        "# importing all necessary libraries\n",
        "from plotly.subplots import make_subplots\n",
        "import plotly.express as px\n",
        "import plotly.graph_objects as go\n",
        "import plotly.figure_factory as ff\n",
        "from statsmodels.tsa.arima_model import ARIMA\n",
        "from statsmodels.tsa.api import ExponentialSmoothing, SimpleExpSmoothing, Holt\n",
        "from tqdm.notebook import tqdm as tqdm\n",
        "\n",
        "import plotly.graph_objs as go #visualization library\n",
        "from statsmodels.graphics.tsaplots import plot_acf, plot_pacf #autocorrelation test\n",
        "import statsmodels.api as sm\n",
        "import matplotlib.pyplot as plt\n",
        "from statsmodels.tsa.stattools import adfuller #stationarity test\n",
        "from statsmodels.tsa.statespace.sarimax import SARIMAX \n",
        "from datetime import datetime, timedelta\n",
        "import statsmodels.api as sm\n",
        "import gc\n",
        "from pylab import rcParams\n",
        "import random\n",
        "import os\n",
        "import time\n",
        "import matplotlib.pyplot as plt\n",
        "import matplotlib.dates as mdates\n",
        "import seaborn as sns\n",
        "import gc\n",
        "import lightgbm as lgb\n",
        "import time\n",
        "import numpy as np\n",
        "import pandas as pd\n",
        "import os\n",
        "import time\n",
        "import matplotlib.dates as mdates\n",
        "import gc\n",
        "import lightgbm as lgb\n",
        "import time\n",
        "\n",
        "from sklearn.preprocessing import LabelEncoder\n",
        "from sklearn.preprocessing import MinMaxScaler\n",
        "from xgboost import XGBRegressor\n",
        "import multiprocessing as mp\n",
        "import warnings\n",
        "warnings.filterwarnings(\"ignore\")\n",
        "\n",
        "%matplotlib inline"
      ]
    },
    {
      "cell_type": "markdown",
      "source": [
        "## Load dữ liệu"
      ],
      "metadata": {
        "id": "JPHuaDuXiROb"
      }
    },
    {
      "cell_type": "code",
      "source": [
        "# Reading dataset's ...\n",
        "calender = pd.read_csv('../input/m5-forecasting-accuracy/calendar.csv')\n",
        "train_sales = pd.read_csv('../input/m5-forecasting-accuracy/sales_train_evaluation.csv')\n",
        "df_val = pd.read_csv('../input/m5-forecasting-accuracy/sales_train_validation.csv')\n",
        "sell_prices = pd.read_csv('../input/m5-forecasting-accuracy/sell_prices.csv')\n",
        "\n"
      ],
      "metadata": {
        "id": "mZ7KfwqFiTz2"
      },
      "execution_count": null,
      "outputs": []
    }
  ]
}