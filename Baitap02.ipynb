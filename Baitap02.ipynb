{
  "nbformat": 4,
  "nbformat_minor": 0,
  "metadata": {
    "colab": {
      "provenance": [],
      "authorship_tag": "ABX9TyO/9+W9VQVmPOWx7zoyUYkj",
      "include_colab_link": true
    },
    "kernelspec": {
      "name": "python3",
      "display_name": "Python 3"
    },
    "language_info": {
      "name": "python"
    }
  },
  "cells": [
    {
      "cell_type": "markdown",
      "metadata": {
        "id": "view-in-github",
        "colab_type": "text"
      },
      "source": [
        "<a href=\"https://colab.research.google.com/github/ngotancuong/mse.python/blob/main/Baitap02.ipynb\" target=\"_parent\"><img src=\"https://colab.research.google.com/assets/colab-badge.svg\" alt=\"Open In Colab\"/></a>"
      ]
    },
    {
      "cell_type": "markdown",
      "source": [
        "#M5 EDA"
      ],
      "metadata": {
        "id": "r_mZ5z95blFk"
      }
    },
    {
      "cell_type": "markdown",
      "source": [
        "## Loading files in pandas dataframes"
      ],
      "metadata": {
        "id": "BU7hawPmbv8P"
      }
    },
    {
      "cell_type": "code",
      "execution_count": 2,
      "metadata": {
        "id": "-XKwNks-a1N-"
      },
      "outputs": [],
      "source": [
        "import pandas as pd # module hỗ trợ xử lý dữ liệu dạng Series, DataFrame,..., xử lý file ví dụ CSV file I/O (sử dụng pd.read_csv)\n",
        "prices = pd.read_csv('https://media.githubusercontent.com/media/ngotancuong/mse.python/master/data/input/sell_prices.csv')\n",
        "sale2 = pd.read_csv('https://media.githubusercontent.com/media/ngotancuong/mse.python/master/data/input/sales_train_validation.csv')\n",
        "cale4 = pd.read_csv('https://media.githubusercontent.com/media/ngotancuong/mse.python/master/data/input/calendar.csv')"
      ]
    }
  ]
}